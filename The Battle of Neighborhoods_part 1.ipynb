{
 "cells": [
  {
   "cell_type": "markdown",
   "metadata": {},
   "source": [
    "# Capstone Project - The Battle of Neighborhoods\n",
    "## Introduction\n",
    "Below is the brief discussion of the project that I want to conduct\n",
    "\n",
    "The Cafe House company wants to expand their business and open more cafe shop in Ho Chi Minh city within the chain. THe business stakeholder wants know **Which location you will recommend in Ho Chi Minh city to open a cafe** in order to attract as many customers as possible. \n",
    "\n",
    "An understanding of existing location will help making the decision and after discussion with the management team, strategic planning, data scientist teams came out with the following hypothesis of the popular cafe shop location.\n",
    "* Places surrounded by shopping street, cinema, entertainment spots.\n",
    "* Near big road, does not locate in small roads\n",
    "\n",
    "Then, after analyzing the current shop location data, I will maek recommendation on the next potential location for a new cafe shop.\n",
    "\n",
    "### Data \n",
    "1. Use the list of chain store taken from the website\n",
    "2. Use Foursquare data to explore the surrounding area characteristics"
   ]
  }
 ],
 "metadata": {
  "kernelspec": {
   "display_name": "Python 3",
   "language": "python",
   "name": "python3"
  },
  "language_info": {
   "codemirror_mode": {
    "name": "ipython",
    "version": 3
   },
   "file_extension": ".py",
   "mimetype": "text/x-python",
   "name": "python",
   "nbconvert_exporter": "python",
   "pygments_lexer": "ipython3",
   "version": "3.7.4"
  }
 },
 "nbformat": 4,
 "nbformat_minor": 2
}
